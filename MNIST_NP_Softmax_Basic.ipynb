{
 "cells": [
  {
   "cell_type": "markdown",
   "metadata": {},
   "source": [
    "This Notebook implements a basic SoftMax Logistic Regression on the MNIST dataset using Numpy."
   ]
  },
  {
   "cell_type": "code",
   "execution_count": 1,
   "metadata": {
    "collapsed": true
   },
   "outputs": [],
   "source": [
    "import numpy as np\n",
    "import time\n",
    "import os\n",
    "import struct\n",
    "import matplotlib.pyplot as plt\n",
    "%matplotlib inline"
   ]
  },
  {
   "cell_type": "markdown",
   "metadata": {},
   "source": [
    "Compute Y = X * W + b with C classes, n inputs and m samples.\n",
    "X will have dimensions of (m,n), W of (n,C) and b of (1,C)\n",
    "X * W will gives us a matrix of size m * C which is what we would expect and Y will be size m * C with one hot encoding.\n",
    "\n",
    "Lets run softmax over a simple example with m=4 samples, C=3 classes and n=3 inputs.\n",
    "\n",
    "The m samples will have inputs [0.6,0.3,0.1], [0.3,0.5,0.2], [0.0,0.1,0.9] and [0.1,0.6,0.4] with output classes of 0,1,2,1 respectively. The output class reflects the highest valued input index.\n"
   ]
  },
  {
   "cell_type": "code",
   "execution_count": 2,
   "metadata": {
    "collapsed": true
   },
   "outputs": [],
   "source": [
    "def InitExample():\n",
    "    X=np.array([[0.6,0.3,0.1],[0.3,0.5,0.2],[0.0,0.1,0.9],[0.1,0.6,0.4]])\n",
    "    labels=np.array([0,1,2,1])\n",
    "    Y=np.eye(max(labels)+1)[labels]\n",
    "    return X, Y, labels"
   ]
  },
  {
   "cell_type": "markdown",
   "metadata": {},
   "source": [
    "The function InitWeights takes the X and Y matrices as inputs and initializes W and b based on their dimensions."
   ]
  },
  {
   "cell_type": "code",
   "execution_count": 3,
   "metadata": {
    "collapsed": true
   },
   "outputs": [],
   "source": [
    "def InitWeights(X, Y):\n",
    "    m, n = X.shape\n",
    "    C = Y.shape[1]\n",
    "    assert m == Y.shape[0], \"X and Y do not have the same number of samples\"\n",
    "    W=np.zeros([n, C])\n",
    "    b=np.zeros([1, C])\n",
    "    return W, b"
   ]
  },
  {
   "cell_type": "markdown",
   "metadata": {},
   "source": [
    "The following two functions compute the score and softmax given X, W and b."
   ]
  },
  {
   "cell_type": "code",
   "execution_count": 4,
   "metadata": {
    "collapsed": true
   },
   "outputs": [],
   "source": [
    "def score(X, W, b):\n",
    "    return np.dot(X, W) + b"
   ]
  },
  {
   "cell_type": "code",
   "execution_count": 5,
   "metadata": {
    "collapsed": true
   },
   "outputs": [],
   "source": [
    "def softmax(scores):\n",
    "    exp_scores = np.exp(scores)\n",
    "    s = exp_scores / np.sum(exp_scores, axis=1, keepdims=True)\n",
    "    return s"
   ]
  },
  {
   "cell_type": "markdown",
   "metadata": {
    "collapsed": true
   },
   "source": [
    "Let's run a test to verify that we have the correct shape for W and b and that softmax is being computed correctly.\n",
    "Each row of softmax needs to add upto 1 and since W,b are initialized to all zeros, all the values should be the same."
   ]
  },
  {
   "cell_type": "code",
   "execution_count": 6,
   "metadata": {},
   "outputs": [
    {
     "name": "stdout",
     "output_type": "stream",
     "text": [
      "X: [[ 0.6  0.3  0.1]\n",
      " [ 0.3  0.5  0.2]\n",
      " [ 0.   0.1  0.9]\n",
      " [ 0.1  0.6  0.4]]\n",
      "X.shape: (4, 3)\n",
      "Y: [[ 1.  0.  0.]\n",
      " [ 0.  1.  0.]\n",
      " [ 0.  0.  1.]\n",
      " [ 0.  1.  0.]]\n",
      "Y.shape: (4, 3)\n",
      "n = 3 m = 4 C = 3\n",
      "W: [[ 0.  0.  0.]\n",
      " [ 0.  0.  0.]\n",
      " [ 0.  0.  0.]]\n",
      "W.shape: (3, 3)\n",
      "b: [[ 0.  0.  0.]]\n",
      "b.shape: (1, 3)\n"
     ]
    },
    {
     "data": {
      "text/plain": [
       "array([[ 0.33333333,  0.33333333,  0.33333333],\n",
       "       [ 0.33333333,  0.33333333,  0.33333333],\n",
       "       [ 0.33333333,  0.33333333,  0.33333333],\n",
       "       [ 0.33333333,  0.33333333,  0.33333333]])"
      ]
     },
     "execution_count": 6,
     "metadata": {},
     "output_type": "execute_result"
    }
   ],
   "source": [
    "X, Y, labels = InitExample()\n",
    "\n",
    "print(\"X:\", X)\n",
    "print(\"X.shape:\", X.shape)\n",
    "print(\"Y:\", Y)\n",
    "print(\"Y.shape:\", Y.shape)\n",
    "m, n = X.shape\n",
    "C = Y.shape[1]\n",
    "print(\"n =\", n, \"m =\", m, \"C =\", C)\n",
    "\n",
    "W, b = InitWeights(X, Y)\n",
    "print(\"W:\", W)\n",
    "print(\"W.shape:\", W.shape)\n",
    "print(\"b:\", b)\n",
    "print(\"b.shape:\", b.shape)\n",
    "softmax(score(X, W, b))"
   ]
  },
  {
   "cell_type": "markdown",
   "metadata": {},
   "source": [
    "The ComputeCost function takes W,X,Y,b as inputs and returns the current softmax probabilities, cost and gradients for W and b."
   ]
  },
  {
   "cell_type": "code",
   "execution_count": 7,
   "metadata": {},
   "outputs": [
    {
     "name": "stdout",
     "output_type": "stream",
     "text": [
      "cost: 1.09861228867\n",
      "prob: [[ 0.33333333  0.33333333  0.33333333]\n",
      " [ 0.33333333  0.33333333  0.33333333]\n",
      " [ 0.33333333  0.33333333  0.33333333]\n",
      " [ 0.33333333  0.33333333  0.33333333]]\n",
      "dW: [[-0.06666667 -0.01666667  0.08333333]\n",
      " [ 0.05       -0.15        0.1       ]\n",
      " [ 0.10833333 -0.01666667 -0.09166667]]\n",
      "db: [ 0.08333333 -0.16666667  0.08333333]\n"
     ]
    }
   ],
   "source": [
    "def ComputeCost(W, X, Y, b):\n",
    "    m = X.shape[0]\n",
    "    grads = {}\n",
    "    prob = softmax(score(X, W, b))\n",
    "    cost = (-1 / m) * np.sum(Y * np.log(prob))\n",
    "    dW = (-1 / m) * np.dot(X.T,(Y - prob))\n",
    "    db = (-1 / m) * np.sum(Y - prob, axis=0)\n",
    "    grads['dW'] = dW \n",
    "    grads['db'] = db\n",
    "    return prob, cost, grads\n",
    "prob, cost, grads = ComputeCost(W, X, Y, b)\n",
    "print(\"cost:\", cost)\n",
    "print(\"prob:\", prob)\n",
    "print(\"dW:\", grads['dW'])\n",
    "print(\"db:\", grads['db'])"
   ]
  },
  {
   "cell_type": "markdown",
   "metadata": {},
   "source": [
    "The UpdateWeights functions updates W and b based on the gradients and learning rate."
   ]
  },
  {
   "cell_type": "code",
   "execution_count": 8,
   "metadata": {
    "collapsed": true
   },
   "outputs": [],
   "source": [
    "def UpdateWeights(W, b, grads, learningRate):\n",
    "    W = W - (learningRate * grads['dW'])\n",
    "    b = b - (learningRate * grads['db'])\n",
    "    return W,b"
   ]
  },
  {
   "cell_type": "markdown",
   "metadata": {},
   "source": [
    "The Predictions function takes X, W and b as inputs and outputs a vector of predicted class labels"
   ]
  },
  {
   "cell_type": "code",
   "execution_count": 9,
   "metadata": {
    "collapsed": true
   },
   "outputs": [],
   "source": [
    "def Predictions(X, W, b ):\n",
    "    probs = softmax(score(X, W, b))\n",
    "    predictions = np.argmax(probs,axis=1)\n",
    "    return predictions"
   ]
  },
  {
   "cell_type": "markdown",
   "metadata": {},
   "source": [
    "The Accuracy function takes two vectors of class labels and computes the accuracy or in other words how many of them match."
   ]
  },
  {
   "cell_type": "code",
   "execution_count": 10,
   "metadata": {
    "collapsed": true
   },
   "outputs": [],
   "source": [
    "def Accuracy(preds, labels):\n",
    "    accuracy = sum(preds == labels)/(float(len(labels)))\n",
    "    return accuracy"
   ]
  },
  {
   "cell_type": "markdown",
   "metadata": {},
   "source": [
    "The TrainModels takes as input X, Y, labels, number of iterations and learning rate. Y is a one hot encoding of the labels vector. The function also takes as input a flag \"verbose\" whic if set to true will print intermediate results.\n",
    "The function computes the cost and gradients in each iteration and updates W and b.\n",
    "\n",
    "It outputs W, b, cost history and accuracy. The cost history consists of 100 samples over the iterations and is useful for plotting and to select the optimal learning rate.\n"
   ]
  },
  {
   "cell_type": "code",
   "execution_count": 11,
   "metadata": {
    "collapsed": true
   },
   "outputs": [],
   "source": [
    "def TrainModel(X, Y, labels, iterations=500, learningRate=1e-2, verbose=False):\n",
    "    W, b = InitWeights(X, Y)\n",
    "    costHistory = []\n",
    "    for i in range(0,iterations):\n",
    "        prob, cost, grads = ComputeCost(W, X, Y, b)\n",
    "        W,b = UpdateWeights(W, b, grads, learningRate)\n",
    "        if (i + 1) % (iterations/100) == 0:\n",
    "            costHistory.append(cost)\n",
    "            if verbose:\n",
    "                print(\"iteration:\", i+1)\n",
    "                print(\"cost =\", cost)\n",
    "                preds = Predictions(X, W, b)\n",
    "                accuracy = Accuracy(preds, labels)\n",
    "                print(\"accuracy =\", accuracy)\n",
    "    preds = Predictions(X, W, b)\n",
    "    accuracy = Accuracy(preds, labels)\n",
    "    return W, b, costHistory, accuracy"
   ]
  },
  {
   "cell_type": "markdown",
   "metadata": {},
   "source": [
    "Run the training model over the example inputs with 4 different learning rates."
   ]
  },
  {
   "cell_type": "code",
   "execution_count": 12,
   "metadata": {},
   "outputs": [
    {
     "name": "stdout",
     "output_type": "stream",
     "text": [
      "learningRate = 0.0001\n",
      "W = [[ 0.03420271  0.00601512 -0.04021782]\n",
      " [-0.02319332  0.0713422  -0.04814888]\n",
      " [-0.05166253  0.0048707   0.04679182]]\n",
      "b =  [[-0.03663428  0.07415731 -0.03752303]]\n",
      "cost =  1.05071011722\n",
      "training accuracy =  0.5\n",
      "\n",
      "\n",
      "\n",
      "learningRate = 0.001\n",
      "W = [[ 0.37605304 -0.0546535  -0.32139953]\n",
      " [-0.14521265  0.5270905  -0.38187786]\n",
      " [-0.38987172 -0.10313858  0.4930103 ]]\n",
      "b =  [[-0.12656411  0.3025828  -0.17601869]]\n",
      "cost =  0.831631118686\n",
      "training accuracy =  0.5\n",
      "\n",
      "\n",
      "\n",
      "learningRate = 0.01\n",
      "W = [[ 2.6082842  -1.18419409 -1.42409012]\n",
      " [-0.89369984  2.78744956 -1.89374972]\n",
      " [-1.78837749 -0.85382755  2.64220505]]\n",
      "b =  [[ 0.10297433  0.37567159 -0.47864592]]\n",
      "cost =  0.272089053087\n",
      "training accuracy =  1.0\n",
      "\n",
      "\n",
      "\n",
      "learningRate = 0.1\n",
      "W = [[ 6.99242787 -4.28078502 -2.71164285]\n",
      " [-3.46650243  7.40122446 -3.93472203]\n",
      " [-3.68839194 -1.82434588  5.51273782]]\n",
      "b =  [[ 0.13614253  0.56938868 -0.7055312 ]]\n",
      "cost =  0.0357400150729\n",
      "training accuracy =  1.0\n",
      "\n",
      "\n",
      "\n"
     ]
    }
   ],
   "source": [
    "X, Y, labels = InitExample()\n",
    "allCostHistory = {}\n",
    "trainAccuracyHistory = {}\n",
    "iterations=5000\n",
    "for learningRate in [1e-4,1e-3,1e-2,1e-1]:\n",
    "    W, b, costHistory, trainAccuracy = TrainModel(X, Y, labels, iterations, learningRate)\n",
    "    trainAccuracyHistory[learningRate] = trainAccuracy\n",
    "    allCostHistory[learningRate] = costHistory\n",
    "    print(\"learningRate =\", learningRate)\n",
    "    print(\"W =\", W)\n",
    "    print(\"b = \", b)\n",
    "    print(\"cost = \", costHistory[-1])\n",
    "    print(\"training accuracy = \", trainAccuracy)\n",
    "    print(\"\\n\\n\")"
   ]
  },
  {
   "cell_type": "markdown",
   "metadata": {},
   "source": [
    "From the output of the training model runs it is clear that learning rates of 0.01 and 0.1 converge faster and 0.001 and 0.0001 are too slow to converge even with 5000 iterations.\n",
    "\n",
    "Lets now plot the cost history for all the 4 learning rates over the 5000 iterations."
   ]
  },
  {
   "cell_type": "code",
   "execution_count": 13,
   "metadata": {},
   "outputs": [
    {
     "name": "stdout",
     "output_type": "stream",
     "text": [
      "4\n"
     ]
    },
    {
     "data": {
      "image/png": "[encoded data removed]",
      "text/plain": [
       "<matplotlib.figure.Figure at 0x112d2f550>"
      ]
     },
     "metadata": {},
     "output_type": "display_data"
    }
   ],
   "source": [
    "print(len(allCostHistory))\n",
    "for ch in allCostHistory:\n",
    "    plt.plot(allCostHistory[ch], label=ch)\n",
    "plt.legend()\n",
    "plt.show()"
   ]
  },
  {
   "cell_type": "markdown",
   "metadata": {},
   "source": [
    "The plot also shows pretty clearly that with a learning rate of 0.1 the cost converges the fastest and 0.01 is also making good progress over 5000 iterations. 0.0001 is hardly converging and 0.0001 is still pretty slow."
   ]
  }
 ],
 "metadata": {
  "kernelspec": {
   "display_name": "Python 3",
   "language": "python",
   "name": "python3"
  },
  "language_info": {
   "codemirror_mode": {
    "name": "ipython",
    "version": 3
   },
   "file_extension": ".py",
   "mimetype": "text/x-python",
   "name": "python",
   "nbconvert_exporter": "python",
   "pygments_lexer": "ipython3",
   "version": "3.6.1"
  }
 },
 "nbformat": 4,
 "nbformat_minor": 2
}
