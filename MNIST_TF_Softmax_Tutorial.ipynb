{
 "cells": [
  {
   "cell_type": "markdown",
   "metadata": {},
   "source": [
    "**This Notebook implements the TensorFlow tutorial which uses SoftMax Logistic Regression on the MNIST dataset**"
   ]
  },
  {
   "cell_type": "code",
   "execution_count": null,
   "metadata": {},
   "outputs": [],
   "source": [
    "import tensorflow as tf\n",
    "from tensorflow.examples.tutorials.mnist import input_data\n",
    "import matplotlib.pyplot as plt\n",
    "import time"
   ]
  },
  {
   "cell_type": "markdown",
   "metadata": {
    "collapsed": true
   },
   "source": [
    "Import MNIST Data"
   ]
  },
  {
   "cell_type": "code",
   "execution_count": 2,
   "metadata": {},
   "outputs": [
    {
     "name": "stdout",
     "output_type": "stream",
     "text": [
      "Extracting ../datasets/MNIST/train-images-idx3-ubyte.gz\n",
      "Extracting ../datasets/MNIST/train-labels-idx1-ubyte.gz\n",
      "Extracting ../datasets/MNIST/t10k-images-idx3-ubyte.gz\n",
      "Extracting ../datasets/MNIST/t10k-labels-idx1-ubyte.gz\n"
     ]
    }
   ],
   "source": [
    "mnist = input_data.read_data_sets(\"../datasets/MNIST/\", one_hot=True)"
   ]
  },
  {
   "cell_type": "markdown",
   "metadata": {},
   "source": [
    "Look at sizes of training, validation and test sets\n",
    "Each image is 28 X 28 pixels\n",
    "Labels are in one hot encoding for use with softmax"
   ]
  },
  {
   "cell_type": "code",
   "execution_count": 3,
   "metadata": {},
   "outputs": [
    {
     "name": "stdout",
     "output_type": "stream",
     "text": [
      "55000\n",
      "5000\n",
      "10000\n"
     ]
    },
    {
     "data": {
      "image/png": "[encoded data removed]",
      "text/plain": [
       "<matplotlib.figure.Figure at 0x117435940>"
      ]
     },
     "metadata": {},
     "output_type": "display_data"
    },
    {
     "name": "stdout",
     "output_type": "stream",
     "text": [
      "[ 0.  0.  0.  0.  0.  0.  0.  0.  1.  0.]\n"
     ]
    }
   ],
   "source": [
    "print(mnist.train.num_examples)\n",
    "print(mnist.validation.num_examples)\n",
    "print(mnist.test.num_examples)\n",
    "plt.imshow(mnist.train.images[30].reshape(28,28),cmap=\"Greys\")\n",
    "plt.show()\n",
    "print (mnist.train.labels[30])\n",
    "\n",
    "\n"
   ]
  },
  {
   "cell_type": "markdown",
   "metadata": {},
   "source": [
    "Declare Variables"
   ]
  },
  {
   "cell_type": "code",
   "execution_count": 4,
   "metadata": {
    "collapsed": true
   },
   "outputs": [],
   "source": [
    "x = tf.placeholder(tf.float32, [None, 784])\n",
    "W = tf.Variable(tf.zeros([784, 10]))\n",
    "b = tf.Variable(tf.zeros([10]))\n"
   ]
  },
  {
   "cell_type": "markdown",
   "metadata": {},
   "source": [
    "Implement Model"
   ]
  },
  {
   "cell_type": "code",
   "execution_count": 5,
   "metadata": {
    "collapsed": true
   },
   "outputs": [],
   "source": [
    "y = tf.nn.softmax(tf.matmul(x, W) + b)\n",
    "y_ = tf.placeholder(tf.float32, [None, 10])\n",
    "cross_entropy = tf.reduce_mean(-tf.reduce_sum(y_ * tf.log(y), reduction_indices=[1]))\n",
    "train_step = tf.train.GradientDescentOptimizer(0.5).minimize(cross_entropy)\n",
    "correct_prediction = tf.equal(tf.argmax(y,1), tf.argmax(y_,1))\n",
    "accuracy = tf.reduce_mean(tf.cast(correct_prediction, tf.float32))"
   ]
  },
  {
   "cell_type": "markdown",
   "metadata": {},
   "source": [
    "Define function that runs the model for given number of batches and returns the training time and accuracy on the training, validation and test data sets"
   ]
  },
  {
   "cell_type": "code",
   "execution_count": 16,
   "metadata": {
    "collapsed": true
   },
   "outputs": [],
   "source": [
    "def train_and_test_model(batches, verbose=False):\n",
    "    start = time.time()\n",
    "    with tf.Session() as sess:\n",
    "        sess.run(tf.global_variables_initializer())\n",
    "        for _ in range(batches):\n",
    "            batch_xs, batch_ys = mnist.train.next_batch(100)\n",
    "            sess.run(train_step, feed_dict={x: batch_xs, y_: batch_ys})\n",
    "        train_time = time.time() - start\n",
    "        train_accuracy = sess.run(accuracy, feed_dict={x: mnist.train.images, y_: mnist.train.labels})\n",
    "        validation_accuracy = sess.run(accuracy, feed_dict={x: mnist.validation.images, y_: mnist.validation.labels})\n",
    "        test_accuracy = sess.run(accuracy, feed_dict={x: mnist.test.images, y_: mnist.test.labels})\n",
    "        if verbose:\n",
    "            print(batches, train_time, train_accuracy, validation_accuracy, test_accuracy)\n",
    "        return (train_time, train_accuracy, validation_accuracy, test_accuracy)"
   ]
  },
  {
   "cell_type": "markdown",
   "metadata": {},
   "source": [
    "The tutorial runs a 1000 batches each of size 100 which is about 2 epochs with 55000 test images. Lets run the model for 1, 2 and 5 epochs and see how accuracy changes with longer training time and also record how long it takes to train."
   ]
  },
  {
   "cell_type": "code",
   "execution_count": 17,
   "metadata": {},
   "outputs": [
    {
     "name": "stdout",
     "output_type": "stream",
     "text": [
      "550 0.670133113861084 0.912527 0.9182 0.9185\n",
      "1100 1.654205083847046 0.918 0.9234 0.9185\n",
      "2750 3.115687131881714 0.924782 0.9232 0.9246\n",
      "5500 6.5319788455963135 0.928273 0.9262 0.9219\n",
      "11000 12.81721806526184 0.927345 0.9236 0.9228\n",
      "13750 15.79944109916687 0.932582 0.9256 0.9268\n",
      "(0.670133113861084, 0.91252726, 0.91820002, 0.91850001) (1.654205083847046, 0.91799998, 0.92339998, 0.91850001) (3.115687131881714, 0.9247818, 0.92320001, 0.92460001) (6.5319788455963135, 0.92827272, 0.92619997, 0.92189997) (12.81721806526184, 0.92734545, 0.92360002, 0.9228) (15.79944109916687, 0.93258184, 0.92559999, 0.92680001)\n"
     ]
    }
   ],
   "source": [
    "one_epoch = train_and_test_model(550,verbose=True)\n",
    "two_epoch = train_and_test_model(1100,verbose=True)\n",
    "five_epoch = train_and_test_model(2750,verbose=True)\n",
    "ten_epoch = train_and_test_model(5500,verbose=True)\n",
    "twenty_epoch = train_and_test_model(11000,verbose=True)\n",
    "twentyfive_epoch = train_and_test_model(13750,verbose=True)\n",
    "print(one_epoch,two_epoch,five_epoch,ten_epoch,twenty_epoch,twentyfive_epoch)"
   ]
  },
  {
   "cell_type": "markdown",
   "metadata": {},
   "source": [
    "Num Epochs | Train Time | Training Accuracy | Validation Accuracy | Test Accuracy\n",
    "---------- | ---------- | ----------------- |-------------------- | -------------\n",
    "1          | 0.6701     | 0.9125            | 0.9182              | 0.9185\n",
    "2          | 1.6542     | 0.9180            | 0.9234              | 0.9185\n",
    "5          | 3.1157     | 0.9248            | 0.9232              | 0.9246\n",
    "10         | 6.5320     | 0.9282            | 0.9262              | 0.9219\n",
    "20         | 12.8172    | 0.9273            | 0.9236              | 0.9228\n",
    "25         | 15.7994    | 0.9326            | 0.9256              | 0.9268"
   ]
  },
  {
   "cell_type": "markdown",
   "metadata": {},
   "source": [
    "It looks like training the model for more than 5 epochs does not improve training accuracy significantly and validation/test accuracy has plateaued. So running 5 epochs in 3.2 seconds for training and 92.5% accuracy looks like the benchmark to aim for while developing a hand coded model using numpy.\n"
   ]
  },
  {
   "cell_type": "code",
   "execution_count": null,
   "metadata": {
    "collapsed": true
   },
   "outputs": [],
   "source": []
  }
 ],
 "metadata": {
  "kernelspec": {
   "display_name": "Python 3",
   "language": "python",
   "name": "python3"
  },
  "language_info": {
   "codemirror_mode": {
    "name": "ipython",
    "version": 3
   },
   "file_extension": ".py",
   "mimetype": "text/x-python",
   "name": "python",
   "nbconvert_exporter": "python",
   "pygments_lexer": "ipython3",
   "version": "3.6.1"
  }
 },
 "nbformat": 4,
 "nbformat_minor": 2
}
