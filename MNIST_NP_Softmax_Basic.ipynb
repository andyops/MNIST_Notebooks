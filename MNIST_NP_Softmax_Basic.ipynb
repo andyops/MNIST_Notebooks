{
 "cells": [
  {
   "cell_type": "markdown",
   "metadata": {},
   "source": [
    "**This Notebook implements basic SoftMax Logistic Regression on the MNIST dataset using Numpy.**"
   ]
  },
  {
   "cell_type": "code",
   "execution_count": 3,
   "metadata": {
    "collapsed": true
   },
   "outputs": [],
   "source": [
    "import numpy as np\n",
    "import time\n",
    "import os\n",
    "import struct\n",
    "import matplotlib.pyplot as plt\n",
    "%matplotlib inline"
   ]
  },
  {
   "cell_type": "markdown",
   "metadata": {},
   "source": [
    "**Run softmax over a simple example with m=4 samples, C=3 classes and n=3 inputs.**\n",
    "\n",
    "Compute Y = X \\* W + b with C classes, n inputs and m samples.\n",
    "\n",
    "X will have dimensions of (m,n), W of (n,C) and b of (1,C).\n",
    "\n",
    "X \\* W will gives us a matrix of size m \\* C which is what we would expect and Y will be size m \\* C with one hot encoding.\n",
    "\n",
    "The m samples will have inputs [0.6,0.3,0.1], [0.3,0.5,0.2], [0.0,0.1,0.9] and [0.1,0.6,0.4] with output classes of 0,1,2,1 respectively. The output class reflects the highest valued input index.\n"
   ]
  },
  {
   "cell_type": "code",
   "execution_count": 4,
   "metadata": {
    "collapsed": true
   },
   "outputs": [],
   "source": [
    "def InitExample():\n",
    "    X=np.array([[0.6,0.3,0.1],[0.3,0.5,0.2],[0.0,0.1,0.9],[0.1,0.6,0.4]])\n",
    "    labels=np.array([0,1,2,1])\n",
    "    Y=np.eye(max(labels)+1)[labels]\n",
    "    return X, Y, labels"
   ]
  },
  {
   "cell_type": "markdown",
   "metadata": {},
   "source": [
    "The function InitWeights takes the X and Y matrices as inputs and initializes W and b based on their dimensions."
   ]
  },
  {
   "cell_type": "code",
   "execution_count": 5,
   "metadata": {
    "collapsed": true
   },
   "outputs": [],
   "source": [
    "def InitWeights(X, Y):\n",
    "    m, n = X.shape\n",
    "    C = Y.shape[1]\n",
    "    assert m == Y.shape[0], \"X and Y do not have the same number of samples\"\n",
    "    W=np.zeros([n, C])\n",
    "    b=np.zeros([1, C])\n",
    "    return W, b"
   ]
  },
  {
   "cell_type": "markdown",
   "metadata": {},
   "source": [
    "The following two functions compute the score and softmax given X, W and b."
   ]
  },
  {
   "cell_type": "code",
   "execution_count": 6,
   "metadata": {
    "collapsed": true
   },
   "outputs": [],
   "source": [
    "def score(X, W, b):\n",
    "    return np.dot(X, W) + b"
   ]
  },
  {
   "cell_type": "code",
   "execution_count": 7,
   "metadata": {
    "collapsed": true
   },
   "outputs": [],
   "source": [
    "def softmax(scores):\n",
    "    exp_scores = np.exp(scores)\n",
    "    s = exp_scores / np.sum(exp_scores, axis=1, keepdims=True)\n",
    "    return s"
   ]
  },
  {
   "cell_type": "markdown",
   "metadata": {
    "collapsed": true
   },
   "source": [
    "Run a test to verify that we have the correct shape for W and b and that softmax is being computed correctly.\n",
    "Each row of softmax needs to add upto 1 and since W,b are initialized to all zeros, all the values should be the same."
   ]
  },
  {
   "cell_type": "code",
   "execution_count": 8,
   "metadata": {},
   "outputs": [
    {
     "name": "stdout",
     "output_type": "stream",
     "text": [
      "X: [[ 0.6  0.3  0.1]\n",
      " [ 0.3  0.5  0.2]\n",
      " [ 0.   0.1  0.9]\n",
      " [ 0.1  0.6  0.4]]\n",
      "X.shape: (4, 3)\n",
      "Y: [[ 1.  0.  0.]\n",
      " [ 0.  1.  0.]\n",
      " [ 0.  0.  1.]\n",
      " [ 0.  1.  0.]]\n",
      "Y.shape: (4, 3)\n",
      "labels: [0 1 2 1]\n",
      "labels.shape: (4,)\n",
      "n = 3 m = 4 C = 3\n",
      "W: [[ 0.  0.  0.]\n",
      " [ 0.  0.  0.]\n",
      " [ 0.  0.  0.]]\n",
      "W.shape: (3, 3)\n",
      "b: [[ 0.  0.  0.]]\n",
      "b.shape: (1, 3)\n"
     ]
    },
    {
     "data": {
      "text/plain": [
       "array([[ 0.33333333,  0.33333333,  0.33333333],\n",
       "       [ 0.33333333,  0.33333333,  0.33333333],\n",
       "       [ 0.33333333,  0.33333333,  0.33333333],\n",
       "       [ 0.33333333,  0.33333333,  0.33333333]])"
      ]
     },
     "execution_count": 8,
     "metadata": {},
     "output_type": "execute_result"
    }
   ],
   "source": [
    "X, Y, labels = InitExample()\n",
    "\n",
    "print(\"X:\", X)\n",
    "print(\"X.shape:\", X.shape)\n",
    "print(\"Y:\", Y)\n",
    "print(\"Y.shape:\", Y.shape)\n",
    "print(\"labels:\", labels)\n",
    "print(\"labels.shape:\", labels.shape)\n",
    "m, n = X.shape\n",
    "C = Y.shape[1]\n",
    "print(\"n =\", n, \"m =\", m, \"C =\", C)\n",
    "\n",
    "W, b = InitWeights(X, Y)\n",
    "print(\"W:\", W)\n",
    "print(\"W.shape:\", W.shape)\n",
    "print(\"b:\", b)\n",
    "print(\"b.shape:\", b.shape)\n",
    "softmax(score(X, W, b))"
   ]
  },
  {
   "cell_type": "markdown",
   "metadata": {},
   "source": [
    "The ComputeCost function takes W,X,Y,b as inputs and returns the current softmax probabilities, cost and gradients for W and b."
   ]
  },
  {
   "cell_type": "code",
   "execution_count": 9,
   "metadata": {},
   "outputs": [
    {
     "name": "stdout",
     "output_type": "stream",
     "text": [
      "cost: 1.09861228867\n",
      "prob: [[ 0.33333333  0.33333333  0.33333333]\n",
      " [ 0.33333333  0.33333333  0.33333333]\n",
      " [ 0.33333333  0.33333333  0.33333333]\n",
      " [ 0.33333333  0.33333333  0.33333333]]\n",
      "dW: [[-0.06666667 -0.01666667  0.08333333]\n",
      " [ 0.05       -0.15        0.1       ]\n",
      " [ 0.10833333 -0.01666667 -0.09166667]]\n",
      "db: [ 0.08333333 -0.16666667  0.08333333]\n"
     ]
    }
   ],
   "source": [
    "def ComputeCost(W, X, Y, b):\n",
    "    m = X.shape[0]\n",
    "    grads = {}\n",
    "    prob = softmax(score(X, W, b))\n",
    "    cost = (-1 / m) * np.sum(Y * np.log(prob))\n",
    "    dW = (-1 / m) * np.dot(X.T,(Y - prob))\n",
    "    db = (-1 / m) * np.sum(Y - prob, axis=0)\n",
    "    grads['dW'] = dW \n",
    "    grads['db'] = db\n",
    "    return prob, cost, grads\n",
    "prob, cost, grads = ComputeCost(W, X, Y, b)\n",
    "print(\"cost:\", cost)\n",
    "print(\"prob:\", prob)\n",
    "print(\"dW:\", grads['dW'])\n",
    "print(\"db:\", grads['db'])"
   ]
  },
  {
   "cell_type": "markdown",
   "metadata": {},
   "source": [
    "The UpdateWeights functions updates W and b based on the gradients and learning rate."
   ]
  },
  {
   "cell_type": "code",
   "execution_count": 10,
   "metadata": {
    "collapsed": true
   },
   "outputs": [],
   "source": [
    "def UpdateWeights(W, b, grads, learningRate):\n",
    "    W = W - (learningRate * grads['dW'])\n",
    "    b = b - (learningRate * grads['db'])\n",
    "    return W,b"
   ]
  },
  {
   "cell_type": "markdown",
   "metadata": {},
   "source": [
    "The Predictions function takes X, W and b as inputs and outputs a vector of predicted class labels"
   ]
  },
  {
   "cell_type": "code",
   "execution_count": 11,
   "metadata": {
    "collapsed": true
   },
   "outputs": [],
   "source": [
    "def Predictions(X, W, b ):\n",
    "    probs = softmax(score(X, W, b))\n",
    "    predictions = np.argmax(probs,axis=1)\n",
    "    return predictions"
   ]
  },
  {
   "cell_type": "markdown",
   "metadata": {},
   "source": [
    "The Accuracy function takes two vectors of class labels and computes the accuracy or in other words how many of them match."
   ]
  },
  {
   "cell_type": "code",
   "execution_count": 12,
   "metadata": {
    "collapsed": true
   },
   "outputs": [],
   "source": [
    "def Accuracy(preds, labels):\n",
    "    accuracy = sum(preds == labels)/(float(len(labels)))\n",
    "    return accuracy"
   ]
  },
  {
   "cell_type": "markdown",
   "metadata": {},
   "source": [
    "The TrainModels takes as input X, Y, labels, number of iterations and learning rate. Y is a one hot encoding of the labels vector. The function also takes as input a flag \"verbose\" whic if set to true will print intermediate results.\n",
    "The function computes the cost and gradients in each iteration and updates W and b.\n",
    "\n",
    "It outputs W, b, cost history and accuracy. The cost history consists of 50 samples over the iterations and is useful for plotting and to select the optimal learning rate.\n"
   ]
  },
  {
   "cell_type": "code",
   "execution_count": 13,
   "metadata": {
    "collapsed": true
   },
   "outputs": [],
   "source": [
    "def TrainModel(X, Y, labels, iterations=500, learningRate=1e-2, verbose=False):\n",
    "    W, b = InitWeights(X, Y)\n",
    "    costHistory = []\n",
    "    start = time.time()\n",
    "    for i in range(0,iterations):\n",
    "        prob, cost, grads = ComputeCost(W, X, Y, b)\n",
    "        W,b = UpdateWeights(W, b, grads, learningRate)\n",
    "        if (i) % (iterations/50) == 0:\n",
    "            costHistory.append(cost)\n",
    "            if verbose:\n",
    "                print(\"iteration:\", i)\n",
    "                print(\"cost =\", cost)\n",
    "                preds = Predictions(X, W, b)\n",
    "                accuracy = Accuracy(preds, labels)\n",
    "                print(\"accuracy =\", accuracy)\n",
    "                print(\"time elapsed =\", time.time() - start)\n",
    "    preds = Predictions(X, W, b)\n",
    "    accuracy = Accuracy(preds, labels)\n",
    "    return W, b, costHistory, accuracy"
   ]
  },
  {
   "cell_type": "markdown",
   "metadata": {},
   "source": [
    "**Run the training model over the example inputs to find the optimal learning rate using 4 different values.**"
   ]
  },
  {
   "cell_type": "code",
   "execution_count": 14,
   "metadata": {},
   "outputs": [
    {
     "name": "stdout",
     "output_type": "stream",
     "text": [
      "learningRate = 0.0001\n",
      "W = [[ 0.03420271  0.00601512 -0.04021782]\n",
      " [-0.02319332  0.0713422  -0.04814888]\n",
      " [-0.05166253  0.0048707   0.04679182]]\n",
      "b =  [[-0.03663428  0.07415731 -0.03752303]]\n",
      "cost =  1.05154860583\n",
      "training accuracy =  0.5\n",
      "\n",
      "\n",
      "\n",
      "learningRate = 0.001\n",
      "W = [[ 0.37605304 -0.0546535  -0.32139953]\n",
      " [-0.14521265  0.5270905  -0.38187786]\n",
      " [-0.38987172 -0.10313858  0.4930103 ]]\n",
      "b =  [[-0.12656411  0.3025828  -0.17601869]]\n",
      "cost =  0.835099905223\n",
      "training accuracy =  0.5\n",
      "\n",
      "\n",
      "\n",
      "learningRate = 0.01\n",
      "W = [[ 2.6082842  -1.18419409 -1.42409012]\n",
      " [-0.89369984  2.78744956 -1.89374972]\n",
      " [-1.78837749 -0.85382755  2.64220505]]\n",
      "b =  [[ 0.10297433  0.37567159 -0.47864592]]\n",
      "cost =  0.276258958105\n",
      "training accuracy =  1.0\n",
      "\n",
      "\n",
      "\n",
      "learningRate = 0.1\n",
      "W = [[ 6.99242787 -4.28078502 -2.71164285]\n",
      " [-3.46650243  7.40122446 -3.93472203]\n",
      " [-3.68839194 -1.82434588  5.51273782]]\n",
      "b =  [[ 0.13614253  0.56938868 -0.7055312 ]]\n",
      "cost =  0.0364307166686\n",
      "training accuracy =  1.0\n",
      "\n",
      "\n",
      "\n"
     ]
    }
   ],
   "source": [
    "X, Y, labels = InitExample()\n",
    "allCostHistory = {}\n",
    "trainAccuracyHistory = {}\n",
    "iterations=5000\n",
    "for learningRate in [1e-4,1e-3,1e-2,1e-1]:\n",
    "    W, b, costHistory, trainAccuracy = TrainModel(X, Y, labels, iterations, learningRate)\n",
    "    trainAccuracyHistory[learningRate] = trainAccuracy\n",
    "    allCostHistory[learningRate] = costHistory\n",
    "    print(\"learningRate =\", learningRate)\n",
    "    print(\"W =\", W)\n",
    "    print(\"b = \", b)\n",
    "    print(\"cost = \", costHistory[-1])\n",
    "    print(\"training accuracy = \", trainAccuracy)\n",
    "    print(\"\\n\\n\")"
   ]
  },
  {
   "cell_type": "markdown",
   "metadata": {},
   "source": [
    "From the output of the training model runs it is clear that learning rates of 0.01 and 0.1 converge faster and 0.001 and 0.0001 are too slow to converge even with 5000 iterations. The training accuracy goes to 1.0 with a learning rate of 0.01 or 0.1.\n",
    "\n",
    "Lets now plot the cost history for all the 4 learning rates over the 5000 iterations."
   ]
  },
  {
   "cell_type": "code",
   "execution_count": 15,
   "metadata": {},
   "outputs": [
    {
     "name": "stdout",
     "output_type": "stream",
     "text": [
      "4\n",
      "50 0.0001\n",
      "50 0.001\n",
      "50 0.01\n",
      "50 0.1\n"
     ]
    },
    {
     "data": {
      "image/png": "[encoded data removed]",
      "text/plain": [
       "<matplotlib.figure.Figure at 0x10fa7c4e0>"
      ]
     },
     "metadata": {},
     "output_type": "display_data"
    }
   ],
   "source": [
    "print(len(allCostHistory))\n",
    "for ch in allCostHistory:\n",
    "    print(len(allCostHistory[ch]),ch)\n",
    "    plt.plot(allCostHistory[ch], label=ch)\n",
    "plt.legend()\n",
    "plt.show()"
   ]
  },
  {
   "cell_type": "markdown",
   "metadata": {},
   "source": [
    "The plot shows that with a learning rate of 0.1, the cost converges the fastest and 0.01 is also making good progress over 5000 iterations. 0.0001 is hardly converging and 0.001 is very slow."
   ]
  },
  {
   "cell_type": "markdown",
   "metadata": {},
   "source": [
    "**Lets us now run the model on the MNIST dataset.**\n",
    "\n",
    "We are going to cheat a little bit here and use tensorflow to load the dataset instead of writing numpy functions."
   ]
  },
  {
   "cell_type": "code",
   "execution_count": 16,
   "metadata": {
    "collapsed": true
   },
   "outputs": [],
   "source": [
    "from tensorflow.examples.tutorials.mnist import input_data"
   ]
  },
  {
   "cell_type": "code",
   "execution_count": 17,
   "metadata": {},
   "outputs": [
    {
     "name": "stdout",
     "output_type": "stream",
     "text": [
      "Extracting ../datasets/MNIST/train-images-idx3-ubyte.gz\n",
      "Extracting ../datasets/MNIST/train-labels-idx1-ubyte.gz\n",
      "Extracting ../datasets/MNIST/t10k-images-idx3-ubyte.gz\n",
      "Extracting ../datasets/MNIST/t10k-labels-idx1-ubyte.gz\n"
     ]
    }
   ],
   "source": [
    "mnist = input_data.read_data_sets(\"../datasets/MNIST/\", one_hot=True)"
   ]
  },
  {
   "cell_type": "markdown",
   "metadata": {},
   "source": [
    "The tensorflow data loader splits the 60000 images in the MNIST training set into a 55000+5000 examples where the set of 5000 is used as a validation set."
   ]
  },
  {
   "cell_type": "code",
   "execution_count": 18,
   "metadata": {},
   "outputs": [
    {
     "name": "stdout",
     "output_type": "stream",
     "text": [
      "55000\n",
      "5000\n",
      "10000\n"
     ]
    }
   ],
   "source": [
    "print(mnist.train.num_examples)\n",
    "print(mnist.validation.num_examples)\n",
    "print(mnist.test.num_examples)"
   ]
  },
  {
   "cell_type": "code",
   "execution_count": 19,
   "metadata": {},
   "outputs": [
    {
     "name": "stdout",
     "output_type": "stream",
     "text": [
      "(55000, 784) (55000, 10) (55000,)\n",
      "(784, 10) (1, 10)\n"
     ]
    }
   ],
   "source": [
    "X = mnist.train.images\n",
    "Y = mnist.train.labels\n",
    "labels = np.argmax(Y,axis=1)\n",
    "print(X.shape,Y.shape,labels.shape)\n",
    "\n",
    "W, b = InitWeights(X, Y)\n",
    "print(W.shape,b.shape)\n"
   ]
  },
  {
   "cell_type": "markdown",
   "metadata": {},
   "source": [
    "InitWeights sets all the weights to zero. Running Predictions with these values should predict everything to \n",
    "the \"0\" class. If the images are uniformly distributed over the 10 classes, we should see an accuracy value of 0.1.\n",
    "Here we get a value of 0.0989 which is pretty close."
   ]
  },
  {
   "cell_type": "code",
   "execution_count": 20,
   "metadata": {},
   "outputs": [
    {
     "name": "stdout",
     "output_type": "stream",
     "text": [
      "accuracy = 0.0989818181818\n",
      "0 5\n",
      "0 1\n",
      "0 1\n",
      "0 3\n",
      "0 6\n",
      "0 2\n",
      "0 6\n",
      "0 3\n",
      "0 3\n",
      "0 1\n"
     ]
    }
   ],
   "source": [
    "preds = Predictions(X, W, b)\n",
    "accuracy = Accuracy(preds, labels)\n",
    "print(\"accuracy =\", accuracy)\n",
    "for i in range(10):\n",
    "    print(preds[10000+i],labels[10000 + i])"
   ]
  },
  {
   "cell_type": "markdown",
   "metadata": {},
   "source": [
    "Find the best learning rate among 0.1, 1.0 and 10 by running 100 iterations of the model for each of them."
   ]
  },
  {
   "cell_type": "code",
   "execution_count": 21,
   "metadata": {},
   "outputs": [
    {
     "name": "stdout",
     "output_type": "stream",
     "text": [
      "iteration: 0\n",
      "cost = 2.30258509299\n",
      "accuracy = 0.662927272727\n",
      "time elapsed = 1.2999680042266846\n",
      "iteration: 2\n",
      "cost = 2.10085950877\n",
      "accuracy = 0.722036363636\n",
      "time elapsed = 3.2730071544647217\n",
      "iteration: 4\n",
      "cost = 1.92974130319\n",
      "accuracy = 0.744636363636\n",
      "time elapsed = 5.312549829483032\n",
      "iteration: 6\n",
      "cost = 1.78266240095\n",
      "accuracy = 0.758890909091\n",
      "time elapsed = 7.004565954208374\n",
      "iteration: 8\n",
      "cost = 1.65629941081\n",
      "accuracy = 0.7708\n",
      "time elapsed = 8.681689023971558\n",
      "iteration: 10\n",
      "cost = 1.5477180063\n",
      "accuracy = 0.779636363636\n",
      "time elapsed = 11.538990020751953\n",
      "iteration: 12\n",
      "cost = 1.45421471527\n",
      "accuracy = 0.787854545455\n",
      "time elapsed = 14.34181809425354\n",
      "iteration: 14\n",
      "cost = 1.37338850518\n",
      "accuracy = 0.794654545455\n",
      "time elapsed = 16.281435012817383\n",
      "iteration: 16\n",
      "cost = 1.30317504621\n",
      "accuracy = 0.799290909091\n",
      "time elapsed = 18.571620225906372\n",
      "iteration: 18\n",
      "cost = 1.2418386614\n",
      "accuracy = 0.804636363636\n",
      "time elapsed = 20.20599603652954\n",
      "iteration: 20\n",
      "cost = 1.18794019755\n",
      "accuracy = 0.809163636364\n",
      "time elapsed = 21.88727617263794\n",
      "iteration: 22\n",
      "cost = 1.14029542161\n",
      "accuracy = 0.812945454545\n",
      "time elapsed = 23.67801022529602\n",
      "iteration: 24\n",
      "cost = 1.09793283905\n",
      "accuracy = 0.8162\n",
      "time elapsed = 25.36402201652527\n",
      "iteration: 26\n",
      "cost = 1.0600553798\n",
      "accuracy = 0.819145454545\n",
      "time elapsed = 27.975795030593872\n",
      "iteration: 28\n",
      "cost = 1.02600759824\n",
      "accuracy = 0.821690909091\n",
      "time elapsed = 30.263440132141113\n",
      "iteration: 30\n",
      "cost = 0.995248529971\n",
      "accuracy = 0.823981818182\n",
      "time elapsed = 32.57297897338867\n",
      "iteration: 32\n",
      "cost = 0.9673296645\n",
      "accuracy = 0.826218181818\n",
      "time elapsed = 35.06128406524658\n",
      "iteration: 34\n",
      "cost = 0.941877261124\n",
      "accuracy = 0.828472727273\n",
      "time elapsed = 39.588820934295654\n",
      "iteration: 36\n",
      "cost = 0.918578225284\n",
      "accuracy = 0.830127272727\n",
      "time elapsed = 42.47590923309326\n",
      "iteration: 38\n",
      "cost = 0.897168846329\n",
      "accuracy = 0.832127272727\n",
      "time elapsed = 44.285019874572754\n",
      "iteration: 40\n",
      "cost = 0.877425809647\n",
      "accuracy = 0.833472727273\n",
      "time elapsed = 46.13977003097534\n",
      "iteration: 42\n",
      "cost = 0.859159006649\n",
      "accuracy = 0.835236363636\n",
      "time elapsed = 48.670029163360596\n",
      "iteration: 44\n",
      "cost = 0.84220576323\n",
      "accuracy = 0.836690909091\n",
      "time elapsed = 50.665913105010986\n",
      "iteration: 46\n",
      "cost = 0.826426187808\n",
      "accuracy = 0.838363636364\n",
      "time elapsed = 53.031917095184326\n",
      "iteration: 48\n",
      "cost = 0.811699404864\n",
      "accuracy = 0.839545454545\n",
      "time elapsed = 55.065529108047485\n",
      "iteration: 50\n",
      "cost = 0.797920490914\n",
      "accuracy = 0.840836363636\n",
      "time elapsed = 57.384462118148804\n",
      "iteration: 52\n",
      "cost = 0.78499796982\n",
      "accuracy = 0.841763636364\n",
      "time elapsed = 60.115939140319824\n",
      "iteration: 54\n",
      "cost = 0.772851755335\n",
      "accuracy = 0.842890909091\n",
      "time elapsed = 62.67471480369568\n",
      "iteration: 56\n",
      "cost = 0.761411452842\n",
      "accuracy = 0.844090909091\n",
      "time elapsed = 64.64207410812378\n",
      "iteration: 58\n",
      "cost = 0.750614950903\n",
      "accuracy = 0.8456\n",
      "time elapsed = 66.68352317810059\n",
      "iteration: 60\n",
      "cost = 0.740407247715\n",
      "accuracy = 0.846727272727\n",
      "time elapsed = 68.75339102745056\n",
      "iteration: 62\n",
      "cost = 0.73073946887\n",
      "accuracy = 0.847763636364\n",
      "time elapsed = 70.64919304847717\n",
      "iteration: 64\n",
      "cost = 0.721568041615\n",
      "accuracy = 0.848890909091\n",
      "time elapsed = 72.483314037323\n",
      "iteration: 66\n",
      "cost = 0.712853997717\n",
      "accuracy = 0.8496\n",
      "time elapsed = 74.29001307487488\n",
      "iteration: 68\n",
      "cost = 0.704562382485\n",
      "accuracy = 0.850436363636\n",
      "time elapsed = 76.22498512268066\n",
      "iteration: 70\n",
      "cost = 0.696661751801\n",
      "accuracy = 0.851054545455\n",
      "time elapsed = 78.05432605743408\n",
      "iteration: 72\n",
      "cost = 0.689123742404\n",
      "accuracy = 0.852018181818\n",
      "time elapsed = 79.81446981430054\n",
      "iteration: 74\n",
      "cost = 0.681922703406\n",
      "accuracy = 0.852836363636\n",
      "time elapsed = 81.42067503929138\n",
      "iteration: 76\n",
      "cost = 0.675035379201\n",
      "accuracy = 0.853454545455\n",
      "time elapsed = 83.19182586669922\n",
      "iteration: 78\n",
      "cost = 0.66844063565\n",
      "accuracy = 0.854127272727\n",
      "time elapsed = 84.9247579574585\n",
      "iteration: 80\n",
      "cost = 0.662119222869\n",
      "accuracy = 0.855018181818\n",
      "time elapsed = 86.66642093658447\n",
      "iteration: 82\n",
      "cost = 0.656053569066\n",
      "accuracy = 0.855872727273\n",
      "time elapsed = 88.37172722816467\n",
      "iteration: 84\n",
      "cost = 0.650227600818\n",
      "accuracy = 0.856327272727\n",
      "time elapsed = 89.98332500457764\n",
      "iteration: 86\n",
      "cost = 0.644626585934\n",
      "accuracy = 0.856872727273\n",
      "time elapsed = 91.91024684906006\n",
      "iteration: 88\n",
      "cost = 0.639236995681\n",
      "accuracy = 0.857436363636\n",
      "time elapsed = 94.34327816963196\n",
      "iteration: 90\n",
      "cost = 0.63404638364\n",
      "accuracy = 0.858\n",
      "time elapsed = 97.79269909858704\n",
      "iteration: 92\n",
      "cost = 0.629043278932\n",
      "accuracy = 0.858527272727\n",
      "time elapsed = 101.23467803001404\n",
      "iteration: 94\n",
      "cost = 0.624217091838\n",
      "accuracy = 0.859036363636\n",
      "time elapsed = 103.32199001312256\n",
      "iteration: 96\n",
      "cost = 0.619558030191\n",
      "accuracy = 0.859472727273\n",
      "time elapsed = 105.76767301559448\n",
      "iteration: 98\n",
      "cost = 0.615057025131\n",
      "accuracy = 0.860054545455\n",
      "time elapsed = 107.89231204986572\n",
      "learningRate = 0.1\n",
      "W = [[ 0.  0.  0. ...,  0.  0.  0.]\n",
      " [ 0.  0.  0. ...,  0.  0.  0.]\n",
      " [ 0.  0.  0. ...,  0.  0.  0.]\n",
      " ..., \n",
      " [ 0.  0.  0. ...,  0.  0.  0.]\n",
      " [ 0.  0.  0. ...,  0.  0.  0.]\n",
      " [ 0.  0.  0. ...,  0.  0.  0.]]\n",
      "b =  [[-0.04946891  0.10633936 -0.02627025 -0.03055497  0.0288012   0.0567122\n",
      "  -0.01231484  0.04984078 -0.10961898 -0.0134656 ]]\n",
      "cost =  0.615057025131\n",
      "training accuracy =  0.860309090909\n",
      "\n",
      "\n",
      "\n",
      "iteration: 0\n",
      "cost = 2.30258509299\n",
      "accuracy = 0.662927272727\n",
      "time elapsed = 1.5737671852111816\n",
      "iteration: 2\n",
      "cost = 1.40019549247\n",
      "accuracy = 0.505163636364\n",
      "time elapsed = 3.7213292121887207\n",
      "iteration: 4\n",
      "cost = 1.73287619432\n",
      "accuracy = 0.591290909091\n",
      "time elapsed = 5.88126015663147\n",
      "iteration: 6\n",
      "cost = 1.39681274813\n",
      "accuracy = 0.703436363636\n",
      "time elapsed = 8.520270109176636\n",
      "iteration: 8\n",
      "cost = 0.889096711709\n",
      "accuracy = 0.6682\n",
      "time elapsed = 10.528398036956787\n",
      "iteration: 10\n",
      "cost = 1.10687543674\n",
      "accuracy = 0.732490909091\n",
      "time elapsed = 12.855698108673096\n",
      "iteration: 12\n",
      "cost = 0.774038098858\n",
      "accuracy = 0.778927272727\n",
      "time elapsed = 14.80822491645813\n",
      "iteration: 14\n",
      "cost = 0.702809050579\n",
      "accuracy = 0.788272727273\n",
      "time elapsed = 16.873213291168213\n",
      "iteration: 16\n",
      "cost = 0.638340156308\n",
      "accuracy = 0.802854545455\n",
      "time elapsed = 18.937928199768066\n",
      "iteration: 18\n",
      "cost = 0.634254149139\n",
      "accuracy = 0.772818181818\n",
      "time elapsed = 21.01507806777954\n",
      "iteration: 20\n",
      "cost = 0.630632074221\n",
      "accuracy = 0.780127272727\n",
      "time elapsed = 23.04680609703064\n",
      "iteration: 22\n",
      "cost = 0.584287464717\n",
      "accuracy = 0.807418181818\n",
      "time elapsed = 25.061519145965576\n",
      "iteration: 24\n",
      "cost = 0.542559042124\n",
      "accuracy = 0.830018181818\n",
      "time elapsed = 26.874672174453735\n",
      "iteration: 26\n",
      "cost = 0.506918796903\n",
      "accuracy = 0.849909090909\n",
      "time elapsed = 29.452399015426636\n",
      "iteration: 28\n",
      "cost = 0.477181456502\n",
      "accuracy = 0.863454545455\n",
      "time elapsed = 31.216227054595947\n",
      "iteration: 30\n",
      "cost = 0.454160427108\n",
      "accuracy = 0.872890909091\n",
      "time elapsed = 33.62435507774353\n",
      "iteration: 32\n",
      "cost = 0.437498463173\n",
      "accuracy = 0.879327272727\n",
      "time elapsed = 35.86733102798462\n",
      "iteration: 34\n",
      "cost = 0.425762528162\n",
      "accuracy = 0.883109090909\n",
      "time elapsed = 37.88940405845642\n",
      "iteration: 36\n",
      "cost = 0.417334264754\n",
      "accuracy = 0.885763636364\n",
      "time elapsed = 40.20981311798096\n",
      "iteration: 38\n",
      "cost = 0.41097232372\n",
      "accuracy = 0.887181818182\n",
      "time elapsed = 42.30674910545349\n",
      "iteration: 40\n",
      "cost = 0.405882711453\n",
      "accuracy = 0.888181818182\n",
      "time elapsed = 44.36179709434509\n",
      "iteration: 42\n",
      "cost = 0.401596514748\n",
      "accuracy = 0.889272727273\n",
      "time elapsed = 46.329506158828735\n",
      "iteration: 44\n",
      "cost = 0.397843121543\n",
      "accuracy = 0.890636363636\n",
      "time elapsed = 48.6947660446167\n",
      "iteration: 46\n",
      "cost = 0.394464791597\n",
      "accuracy = 0.891636363636\n",
      "time elapsed = 51.73757219314575\n",
      "iteration: 48\n",
      "cost = 0.391366783685\n",
      "accuracy = 0.892654545455\n",
      "time elapsed = 54.83999729156494\n",
      "iteration: 50\n",
      "cost = 0.388489772139\n",
      "accuracy = 0.893490909091\n",
      "time elapsed = 58.342057943344116\n",
      "iteration: 52\n",
      "cost = 0.38579478843\n",
      "accuracy = 0.894254545455\n",
      "time elapsed = 61.36375308036804\n",
      "iteration: 54\n",
      "cost = 0.383254923872\n",
      "accuracy = 0.8946\n",
      "time elapsed = 63.861733198165894\n",
      "iteration: 56\n",
      "cost = 0.380850658818\n",
      "accuracy = 0.8952\n",
      "time elapsed = 66.98782992362976\n",
      "iteration: 58\n",
      "cost = 0.37856716282\n",
      "accuracy = 0.895909090909\n",
      "time elapsed = 70.8203330039978\n",
      "iteration: 60\n",
      "cost = 0.376392691773\n",
      "accuracy = 0.896236363636\n",
      "time elapsed = 73.2712082862854\n",
      "iteration: 62\n",
      "cost = 0.374317612392\n",
      "accuracy = 0.896818181818\n",
      "time elapsed = 75.5718560218811\n",
      "iteration: 64\n",
      "cost = 0.372333794492\n",
      "accuracy = 0.897327272727\n",
      "time elapsed = 77.90771198272705\n"
     ]
    },
    {
     "name": "stdout",
     "output_type": "stream",
     "text": [
      "iteration: 66\n",
      "cost = 0.370434223279\n",
      "accuracy = 0.897745454545\n",
      "time elapsed = 80.1128191947937\n",
      "iteration: 68\n",
      "cost = 0.368612745242\n",
      "accuracy = 0.898327272727\n",
      "time elapsed = 82.13282918930054\n",
      "iteration: 70\n",
      "cost = 0.366863896187\n",
      "accuracy = 0.899018181818\n",
      "time elapsed = 84.80580806732178\n",
      "iteration: 72\n",
      "cost = 0.365182780429\n",
      "accuracy = 0.899545454545\n",
      "time elapsed = 87.81743216514587\n",
      "iteration: 74\n",
      "cost = 0.363564982387\n",
      "accuracy = 0.899854545455\n",
      "time elapsed = 91.00881099700928\n",
      "iteration: 76\n",
      "cost = 0.362006499217\n",
      "accuracy = 0.9002\n",
      "time elapsed = 93.50413799285889\n",
      "iteration: 78\n",
      "cost = 0.360503687548\n",
      "accuracy = 0.9006\n",
      "time elapsed = 96.53227019309998\n",
      "iteration: 80\n",
      "cost = 0.359053220075\n",
      "accuracy = 0.900890909091\n",
      "time elapsed = 99.38571429252625\n",
      "iteration: 82\n",
      "cost = 0.357652049349\n",
      "accuracy = 0.901127272727\n",
      "time elapsed = 102.75490927696228\n",
      "iteration: 84\n",
      "cost = 0.35629737704\n",
      "accuracy = 0.901436363636\n",
      "time elapsed = 105.77681612968445\n",
      "iteration: 86\n",
      "cost = 0.354986627531\n",
      "accuracy = 0.901745454545\n",
      "time elapsed = 108.4348258972168\n",
      "iteration: 88\n",
      "cost = 0.353717425027\n",
      "accuracy = 0.902\n",
      "time elapsed = 112.04065704345703\n",
      "iteration: 90\n",
      "cost = 0.352487573582\n",
      "accuracy = 0.902218181818\n",
      "time elapsed = 114.99251413345337\n",
      "iteration: 92\n",
      "cost = 0.351295039583\n",
      "accuracy = 0.902636363636\n",
      "time elapsed = 117.54528212547302\n",
      "iteration: 94\n",
      "cost = 0.350137936323\n",
      "accuracy = 0.902927272727\n",
      "time elapsed = 119.97918891906738\n",
      "iteration: 96\n",
      "cost = 0.349014510372\n",
      "accuracy = 0.903090909091\n",
      "time elapsed = 121.94662714004517\n",
      "iteration: 98\n",
      "cost = 0.347923129484\n",
      "accuracy = 0.9034\n",
      "time elapsed = 123.97607493400574\n",
      "learningRate = 1\n",
      "W = [[ 0.  0.  0. ...,  0.  0.  0.]\n",
      " [ 0.  0.  0. ...,  0.  0.  0.]\n",
      " [ 0.  0.  0. ...,  0.  0.  0.]\n",
      " ..., \n",
      " [ 0.  0.  0. ...,  0.  0.  0.]\n",
      " [ 0.  0.  0. ...,  0.  0.  0.]\n",
      " [ 0.  0.  0. ...,  0.  0.  0.]]\n",
      "b =  [[-0.15143402  0.24221035 -0.02417535 -0.11578452  0.06370963  0.45914952\n",
      "  -0.03383453  0.2370799  -0.59492888 -0.0819921 ]]\n",
      "cost =  0.347923129484\n",
      "training accuracy =  0.903581818182\n",
      "\n",
      "\n",
      "\n",
      "iteration: 0\n",
      "cost = 2.30258509299\n",
      "accuracy = 0.662927272727\n",
      "time elapsed = 1.489305019378662\n",
      "iteration: 2\n",
      "cost = 20.2804727806\n",
      "accuracy = 0.485381818182\n",
      "time elapsed = 4.092714071273804\n",
      "iteration: 4\n",
      "cost = 41.1168051189\n",
      "accuracy = 0.404345454545\n",
      "time elapsed = 6.700016021728516\n",
      "iteration: 6\n",
      "cost = 40.0070815612\n",
      "accuracy = 0.280381818182\n",
      "time elapsed = 9.517518043518066\n",
      "iteration: 8\n",
      "cost = 39.1940183988\n",
      "accuracy = 0.460690909091\n",
      "time elapsed = 11.543292999267578\n",
      "iteration: 10\n",
      "cost = 26.9832349953\n",
      "accuracy = 0.544218181818\n",
      "time elapsed = 13.556303977966309\n",
      "iteration: 12\n",
      "cost = 13.709421489\n",
      "accuracy = 0.732018181818\n",
      "time elapsed = 15.715801000595093\n",
      "iteration: 14\n",
      "cost = 3.49892593543\n",
      "accuracy = 0.809145454545\n",
      "time elapsed = 18.30279302597046\n",
      "iteration: 16\n",
      "cost = 2.52176784557\n",
      "accuracy = 0.838854545455\n",
      "time elapsed = 20.19260811805725\n",
      "iteration: 18\n",
      "cost = 1.99180647781\n",
      "accuracy = 0.859818181818\n",
      "time elapsed = 22.329620122909546\n",
      "iteration: 20\n",
      "cost = 1.70513524326\n",
      "accuracy = 0.8698\n",
      "time elapsed = 25.011372089385986\n",
      "iteration: 22\n",
      "cost = 1.57079727518\n",
      "accuracy = 0.875145454545\n",
      "time elapsed = 27.14105987548828\n",
      "iteration: 24\n",
      "cost = 1.47754520425\n",
      "accuracy = 0.878272727273\n",
      "time elapsed = 29.15275812149048\n",
      "iteration: 26\n",
      "cost = 1.39924156895\n",
      "accuracy = 0.881563636364\n",
      "time elapsed = 31.23005509376526\n",
      "iteration: 28\n",
      "cost = 1.33084528759\n",
      "accuracy = 0.884090909091\n",
      "time elapsed = 33.40209603309631\n",
      "iteration: 30\n",
      "cost = 1.27202479475\n",
      "accuracy = 0.886109090909\n",
      "time elapsed = 35.68943810462952\n",
      "iteration: 32\n",
      "cost = 1.2263910727\n",
      "accuracy = 0.886636363636\n",
      "time elapsed = 37.7808620929718\n",
      "iteration: 34\n",
      "cost = 1.21055655529\n",
      "accuracy = 0.880890909091\n",
      "time elapsed = 40.56387996673584\n",
      "iteration: 36\n",
      "cost = 1.3475358968\n",
      "accuracy = 0.844163636364\n",
      "time elapsed = 43.22394919395447\n",
      "iteration: 38\n",
      "cost = 3.19951085125\n",
      "accuracy = 0.733963636364\n",
      "time elapsed = 45.66482591629028\n",
      "iteration: 40\n",
      "cost = 7.21955821233\n",
      "accuracy = 0.836509090909\n",
      "time elapsed = 49.22149300575256\n",
      "iteration: 42\n",
      "cost = 1.92240658339\n",
      "accuracy = 0.796\n",
      "time elapsed = 52.98125600814819\n",
      "iteration: 44\n",
      "cost = 4.62247402041\n",
      "accuracy = 0.782236363636\n",
      "time elapsed = 56.002532958984375\n",
      "iteration: 46\n",
      "cost = 1.91896698291\n",
      "accuracy = 0.835327272727\n",
      "time elapsed = 58.994791984558105\n",
      "iteration: 48\n",
      "cost = 2.66923091704\n",
      "accuracy = 0.799636363636\n",
      "time elapsed = 60.88868808746338\n",
      "iteration: 50\n",
      "cost = 2.99038436717\n",
      "accuracy = 0.825527272727\n",
      "time elapsed = 62.73026895523071\n",
      "iteration: 52\n",
      "cost = 2.30321724046\n",
      "accuracy = 0.830163636364\n",
      "time elapsed = 64.70345711708069\n",
      "iteration: 54\n",
      "cost = 2.11832642236\n",
      "accuracy = 0.840054545455\n",
      "time elapsed = 68.71608781814575\n",
      "iteration: 56\n",
      "cost = 1.80498666809\n",
      "accuracy = 0.858854545455\n",
      "time elapsed = 70.45603489875793\n",
      "iteration: 58\n",
      "cost = 1.42769378765\n",
      "accuracy = 0.878909090909\n",
      "time elapsed = 72.1028470993042\n",
      "iteration: 60\n",
      "cost = 1.17756534961\n",
      "accuracy = 0.892527272727\n",
      "time elapsed = 73.88221192359924\n",
      "iteration: 62\n",
      "cost = 1.06054748345\n",
      "accuracy = 0.896745454545\n",
      "time elapsed = 75.60078191757202\n",
      "iteration: 64\n",
      "cost = 0.999395499586\n",
      "accuracy = 0.899472727273\n",
      "time elapsed = 77.32326889038086\n",
      "iteration: 66\n",
      "cost = 0.957014958327\n",
      "accuracy = 0.9012\n",
      "time elapsed = 80.02597689628601\n",
      "iteration: 68\n",
      "cost = 0.923084827946\n",
      "accuracy = 0.902309090909\n",
      "time elapsed = 83.03808808326721\n",
      "iteration: 70\n",
      "cost = 0.894644326612\n",
      "accuracy = 0.902709090909\n",
      "time elapsed = 85.25780701637268\n",
      "iteration: 72\n",
      "cost = 0.872026679073\n",
      "accuracy = 0.9026\n",
      "time elapsed = 87.41238403320312\n",
      "iteration: 74\n",
      "cost = 0.858987236753\n",
      "accuracy = 0.901563636364\n",
      "time elapsed = 89.55886507034302\n",
      "iteration: 76\n",
      "cost = 0.867820955905\n",
      "accuracy = 0.896290909091\n",
      "time elapsed = 91.40787696838379\n",
      "iteration: 78\n",
      "cost = 0.955939003306\n",
      "accuracy = 0.8712\n",
      "time elapsed = 95.66158699989319\n",
      "iteration: 80\n",
      "cost = 1.82842153602\n",
      "accuracy = 0.795945454545\n",
      "time elapsed = 98.79932022094727\n",
      "iteration: 82\n",
      "cost = 2.18756704866\n",
      "accuracy = 0.677781818182\n",
      "time elapsed = 101.56900906562805\n",
      "iteration: 84\n",
      "cost = 10.6097008819\n",
      "accuracy = 0.750563636364\n",
      "time elapsed = 105.11271619796753\n",
      "iteration: 86\n",
      "cost = 3.23380987149\n",
      "accuracy = 0.804563636364\n",
      "time elapsed = 108.05067610740662\n",
      "iteration: 88\n",
      "cost = 2.15756439831\n",
      "accuracy = 0.824309090909\n",
      "time elapsed = 109.9307210445404\n",
      "iteration: 90\n",
      "cost = 3.028721887\n",
      "accuracy = 0.848490909091\n",
      "time elapsed = 113.25370812416077\n",
      "iteration: 92\n",
      "cost = 1.97713992732\n",
      "accuracy = 0.817763636364\n",
      "time elapsed = 116.42532300949097\n",
      "iteration: 94\n",
      "cost = 2.87637749534\n",
      "accuracy = 0.801436363636\n",
      "time elapsed = 119.12271404266357\n",
      "iteration: 96\n",
      "cost = 2.91636743806\n",
      "accuracy = 0.818781818182\n",
      "time elapsed = 122.07815790176392\n",
      "iteration: 98\n",
      "cost = 3.23256898863\n",
      "accuracy = 0.813\n",
      "time elapsed = 125.70973300933838\n",
      "learningRate = 10\n",
      "W = [[ 0.  0.  0. ...,  0.  0.  0.]\n",
      " [ 0.  0.  0. ...,  0.  0.  0.]\n",
      " [ 0.  0.  0. ...,  0.  0.  0.]\n",
      " ..., \n",
      " [ 0.  0.  0. ...,  0.  0.  0.]\n",
      " [ 0.  0.  0. ...,  0.  0.  0.]\n",
      " [ 0.  0.  0. ...,  0.  0.  0.]]\n",
      "b =  [[-1.07677289  0.82992739  0.60228153 -0.48873757  0.37426064  3.74550035\n",
      "   0.05545659  1.9182902  -5.345129   -0.61507724]]\n",
      "cost =  3.23256898863\n",
      "training accuracy =  0.855672727273\n",
      "\n",
      "\n",
      "\n"
     ]
    }
   ],
   "source": [
    "allCostHistory = {}\n",
    "trainAccuracyHistory = {}\n",
    "iterations=100\n",
    "for learningRate in [0.1,1,10]:\n",
    "    W, b, costHistory, trainAccuracy = TrainModel(X, Y, labels, iterations, learningRate,verbose=True)\n",
    "    trainAccuracyHistory[learningRate] = trainAccuracy\n",
    "    allCostHistory[learningRate] = costHistory\n",
    "    print(\"learningRate =\", learningRate)\n",
    "    print(\"W =\", W)\n",
    "    print(\"b = \", b)\n",
    "    print(\"cost = \", costHistory[-1])\n",
    "    print(\"training accuracy = \", trainAccuracy)\n",
    "    print(\"\\n\\n\")"
   ]
  },
  {
   "cell_type": "markdown",
   "metadata": {},
   "source": [
    "The plot shows that with a learning rate of 10, the cost does not go down monotonically and keep oscillating which points to it being too high. Learning rates of 0.1 and 1 show similar behaviour with 1 slight better in terms of lower cost. So we will use that for running the model for more epochs till we get good accuracy. "
   ]
  },
  {
   "cell_type": "code",
   "execution_count": 22,
   "metadata": {},
   "outputs": [
    {
     "data": {
      "image/png": "[encoded data removed]",
      "text/plain": [
       "<matplotlib.figure.Figure at 0x125b17710>"
      ]
     },
     "metadata": {},
     "output_type": "display_data"
    }
   ],
   "source": [
    "for ch in allCostHistory:\n",
    "    plt.plot(allCostHistory[ch], label=ch)\n",
    "plt.legend()\n",
    "plt.show()"
   ]
  },
  {
   "cell_type": "markdown",
   "metadata": {},
   "source": [
    "**Run the model for a 1000 epochs on the training set.**"
   ]
  },
  {
   "cell_type": "code",
   "execution_count": 20,
   "metadata": {},
   "outputs": [
    {
     "name": "stdout",
     "output_type": "stream",
     "text": [
      "iteration: 0\n",
      "cost = 2.30258509299\n",
      "accuracy = 0.662927272727\n",
      "time elapsed = 1.7432122230529785\n",
      "iteration: 20\n",
      "cost = 0.630632074221\n",
      "accuracy = 0.780127272727\n",
      "time elapsed = 15.271590232849121\n",
      "iteration: 40\n",
      "cost = 0.405882711453\n",
      "accuracy = 0.888181818182\n",
      "time elapsed = 27.892492055892944\n",
      "iteration: 60\n",
      "cost = 0.376392691773\n",
      "accuracy = 0.896236363636\n",
      "time elapsed = 40.44439721107483\n",
      "iteration: 80\n",
      "cost = 0.359053220075\n",
      "accuracy = 0.900890909091\n",
      "time elapsed = 53.15896224975586\n",
      "iteration: 100\n",
      "cost = 0.346862271846\n",
      "accuracy = 0.903818181818\n",
      "time elapsed = 65.97528910636902\n",
      "iteration: 120\n",
      "cost = 0.337660104572\n",
      "accuracy = 0.906363636364\n",
      "time elapsed = 78.82346820831299\n",
      "iteration: 140\n",
      "cost = 0.33038492847\n",
      "accuracy = 0.908272727273\n",
      "time elapsed = 91.37506413459778\n",
      "iteration: 160\n",
      "cost = 0.324440572934\n",
      "accuracy = 0.910127272727\n",
      "time elapsed = 104.74938917160034\n",
      "iteration: 180\n",
      "cost = 0.319461734922\n",
      "accuracy = 0.911581818182\n",
      "time elapsed = 117.3792781829834\n",
      "iteration: 200\n",
      "cost = 0.315209988465\n",
      "accuracy = 0.912854545455\n",
      "time elapsed = 130.63322615623474\n",
      "iteration: 220\n",
      "cost = 0.311522052898\n",
      "accuracy = 0.913818181818\n",
      "time elapsed = 143.22618317604065\n",
      "iteration: 240\n",
      "cost = 0.308281782854\n",
      "accuracy = 0.914781818182\n",
      "time elapsed = 155.76766419410706\n",
      "iteration: 260\n",
      "cost = 0.305403979085\n",
      "accuracy = 0.915527272727\n",
      "time elapsed = 168.4058141708374\n",
      "iteration: 280\n",
      "cost = 0.302824529928\n",
      "accuracy = 0.916054545455\n",
      "time elapsed = 180.8030662536621\n",
      "iteration: 300\n",
      "cost = 0.300494144978\n",
      "accuracy = 0.916636363636\n",
      "time elapsed = 193.45475816726685\n",
      "iteration: 320\n",
      "cost = 0.298374226674\n",
      "accuracy = 0.9172\n",
      "time elapsed = 206.29236817359924\n",
      "iteration: 340\n",
      "cost = 0.296434066358\n",
      "accuracy = 0.917836363636\n",
      "time elapsed = 219.08929324150085\n",
      "iteration: 360\n",
      "cost = 0.294648889456\n",
      "accuracy = 0.918218181818\n",
      "time elapsed = 231.80854415893555\n",
      "iteration: 380\n",
      "cost = 0.292998461364\n",
      "accuracy = 0.918527272727\n",
      "time elapsed = 244.7593011856079\n",
      "iteration: 400\n",
      "cost = 0.29146607325\n",
      "accuracy = 0.918927272727\n",
      "time elapsed = 257.7118830680847\n",
      "iteration: 420\n",
      "cost = 0.290037791179\n",
      "accuracy = 0.919327272727\n",
      "time elapsed = 270.89046812057495\n",
      "iteration: 440\n",
      "cost = 0.288701891429\n",
      "accuracy = 0.919672727273\n",
      "time elapsed = 283.5819251537323\n",
      "iteration: 460\n",
      "cost = 0.287448429844\n",
      "accuracy = 0.920090909091\n",
      "time elapsed = 296.2090051174164\n",
      "iteration: 480\n",
      "cost = 0.286268909232\n",
      "accuracy = 0.920654545455\n",
      "time elapsed = 308.74913930892944\n",
      "iteration: 500\n",
      "cost = 0.285156019515\n",
      "accuracy = 0.920945454545\n",
      "time elapsed = 322.857360124588\n",
      "iteration: 520\n",
      "cost = 0.284103432597\n",
      "accuracy = 0.921127272727\n",
      "time elapsed = 341.2735800743103\n",
      "iteration: 540\n",
      "cost = 0.283105638851\n",
      "accuracy = 0.9214\n",
      "time elapsed = 362.0401883125305\n",
      "iteration: 560\n",
      "cost = 0.282157815638\n",
      "accuracy = 0.921690909091\n",
      "time elapsed = 379.866571187973\n",
      "iteration: 580\n",
      "cost = 0.281255720704\n",
      "accuracy = 0.921890909091\n",
      "time elapsed = 396.413702249527\n",
      "iteration: 600\n",
      "cost = 0.280395605105\n",
      "accuracy = 0.922054545455\n",
      "time elapsed = 409.76110911369324\n",
      "iteration: 620\n",
      "cost = 0.279574141562\n",
      "accuracy = 0.922272727273\n",
      "time elapsed = 422.18694710731506\n",
      "iteration: 640\n",
      "cost = 0.278788365142\n",
      "accuracy = 0.9224\n",
      "time elapsed = 434.48607325553894\n",
      "iteration: 660\n",
      "cost = 0.27803562382\n",
      "accuracy = 0.922836363636\n",
      "time elapsed = 447.0326442718506\n",
      "iteration: 680\n",
      "cost = 0.277313537055\n",
      "accuracy = 0.923109090909\n",
      "time elapsed = 459.47134733200073\n",
      "iteration: 700\n",
      "cost = 0.276619960882\n",
      "accuracy = 0.923327272727\n",
      "time elapsed = 471.79906940460205\n",
      "iteration: 720\n",
      "cost = 0.275952958342\n",
      "accuracy = 0.923509090909\n",
      "time elapsed = 484.3128662109375\n",
      "iteration: 740\n",
      "cost = 0.275310774322\n",
      "accuracy = 0.9236\n",
      "time elapsed = 498.205126285553\n",
      "iteration: 760\n",
      "cost = 0.27469181404\n",
      "accuracy = 0.923709090909\n",
      "time elapsed = 510.48304414749146\n",
      "iteration: 780\n",
      "cost = 0.274094624569\n",
      "accuracy = 0.924018181818\n",
      "time elapsed = 522.9618771076202\n",
      "iteration: 800\n",
      "cost = 0.273517878909\n",
      "accuracy = 0.924090909091\n",
      "time elapsed = 535.485894203186\n",
      "iteration: 820\n",
      "cost = 0.272960362195\n",
      "accuracy = 0.924127272727\n",
      "time elapsed = 547.8997843265533\n",
      "iteration: 840\n",
      "cost = 0.272420959723\n",
      "accuracy = 0.924345454545\n",
      "time elapsed = 560.344306230545\n",
      "iteration: 860\n",
      "cost = 0.271898646497\n",
      "accuracy = 0.924527272727\n",
      "time elapsed = 572.9929621219635\n",
      "iteration: 880\n",
      "cost = 0.271392478094\n",
      "accuracy = 0.924690909091\n",
      "time elapsed = 585.5207452774048\n",
      "iteration: 900\n",
      "cost = 0.270901582641\n",
      "accuracy = 0.924927272727\n",
      "time elapsed = 597.963561296463\n",
      "iteration: 920\n",
      "cost = 0.270425153757\n",
      "accuracy = 0.925163636364\n",
      "time elapsed = 610.4837062358856\n",
      "iteration: 940\n",
      "cost = 0.269962444313\n",
      "accuracy = 0.925254545455\n",
      "time elapsed = 622.7845861911774\n",
      "iteration: 960\n",
      "cost = 0.269512760912\n",
      "accuracy = 0.925381818182\n",
      "time elapsed = 634.9940581321716\n",
      "iteration: 980\n",
      "cost = 0.26907545899\n",
      "accuracy = 0.925490909091\n",
      "time elapsed = 647.3423731327057\n",
      "learningRate = 1\n",
      "W = [[ 0.  0.  0. ...,  0.  0.  0.]\n",
      " [ 0.  0.  0. ...,  0.  0.  0.]\n",
      " [ 0.  0.  0. ...,  0.  0.  0.]\n",
      " ..., \n",
      " [ 0.  0.  0. ...,  0.  0.  0.]\n",
      " [ 0.  0.  0. ...,  0.  0.  0.]\n",
      " [ 0.  0.  0. ...,  0.  0.  0.]]\n",
      "b =  [[-0.52863148  0.4338832   0.15959347 -0.353872   -0.03684081  1.72875834\n",
      "  -0.15982544  0.85336372 -1.78453263 -0.31189636]]\n",
      "cost =  0.26907545899\n",
      "training accuracy =  0.925581818182\n",
      "\n",
      "\n",
      "\n"
     ]
    },
    {
     "data": {
      "image/png": "[encoded data removed]",
      "text/plain": [
       "<matplotlib.figure.Figure at 0x119a4cba8>"
      ]
     },
     "metadata": {},
     "output_type": "display_data"
    }
   ],
   "source": [
    "allCostHistory = {}\n",
    "trainAccuracyHistory = {}\n",
    "iterations=1000\n",
    "for learningRate in [1]:\n",
    "    W, b, costHistory, trainAccuracy = TrainModel(X, Y, labels, iterations, learningRate,verbose=True)\n",
    "    trainAccuracyHistory[learningRate] = trainAccuracy\n",
    "    allCostHistory[learningRate] = costHistory\n",
    "    print(\"learningRate =\", learningRate)\n",
    "    print(\"W =\", W)\n",
    "    print(\"b = \", b)\n",
    "    print(\"cost = \", costHistory[-1])\n",
    "    print(\"training accuracy = \", trainAccuracy)\n",
    "    print(\"\\n\\n\")\n",
    "for ch in allCostHistory:\n",
    "    plt.plot(allCostHistory[ch], label=ch)\n",
    "plt.legend()\n",
    "plt.show()"
   ]
  },
  {
   "cell_type": "markdown",
   "metadata": {},
   "source": [
    "The training accuracy got to around 92.5% and is making very small improvements after that. The training accuracy hit 91.6% after 300 epochs and hit 92% after 460 epoch for comparison. It took 659.55 sec to run the model for a 1000 epochs.\n",
    "\n",
    "Lets look at a few predictions and try to find a misprediction."
   ]
  },
  {
   "cell_type": "code",
   "execution_count": 25,
   "metadata": {},
   "outputs": [
    {
     "name": "stdout",
     "output_type": "stream",
     "text": [
      "training accuracy = 0.925581818182\n",
      "prediction = 2 label = 2\n",
      "prediction = 8 label = 8\n",
      "prediction = 3 label = 3\n",
      "prediction = 2 label = 2\n",
      "prediction = 9 label = 9\n",
      "prediction = 8 label = 8\n",
      "prediction = 4 label = 6\n",
      "prediction = 6 label = 6\n",
      "prediction = 0 label = 0\n",
      "prediction = 5 label = 5\n"
     ]
    }
   ],
   "source": [
    "preds = Predictions(X, W, b)\n",
    "accuracy = Accuracy(preds, labels)\n",
    "print(\"training accuracy =\", accuracy)\n",
    "for i in range(10):\n",
    "    print(\"prediction =\",preds[30020+i],\"label =\",labels[30020 + i])"
   ]
  },
  {
   "cell_type": "markdown",
   "metadata": {},
   "source": [
    "Training example 30026 was incorrectly classified as a \"4\" instead of a \"6\". Looking at the image shows why the classifier might have gotten it wrong. Example 30027 which was correctly classied as \"6\" is much easier to classify."
   ]
  },
  {
   "cell_type": "code",
   "execution_count": 26,
   "metadata": {},
   "outputs": [
    {
     "data": {
      "image/png": "[encoded data removed]",
      "text/plain": [
       "<matplotlib.figure.Figure at 0x1244340b8>"
      ]
     },
     "metadata": {},
     "output_type": "display_data"
    },
    {
     "data": {
      "image/png": "[encoded data removed]",
      "text/plain": [
       "<matplotlib.figure.Figure at 0x1243a0f60>"
      ]
     },
     "metadata": {},
     "output_type": "display_data"
    }
   ],
   "source": [
    "plt.imshow(mnist.train.images[30026].reshape(28,28),cmap=\"Greys\")\n",
    "plt.show()\n",
    "plt.imshow(mnist.train.images[30027].reshape(28,28),cmap=\"Greys\")\n",
    "plt.show()"
   ]
  },
  {
   "cell_type": "markdown",
   "metadata": {},
   "source": [
    "Compute the accuracy of predictions on the validation and test sets."
   ]
  },
  {
   "cell_type": "code",
   "execution_count": 27,
   "metadata": {},
   "outputs": [
    {
     "name": "stdout",
     "output_type": "stream",
     "text": [
      "validation accuracy = 0.9274\n"
     ]
    }
   ],
   "source": [
    "XV = mnist.validation.images\n",
    "YV = mnist.validation.labels\n",
    "labelsV = np.argmax(YV,axis=1)\n",
    "predsV = Predictions(XV, W, b)\n",
    "accuracyV = Accuracy(predsV, labelsV)\n",
    "print(\"validation accuracy =\", accuracyV)"
   ]
  },
  {
   "cell_type": "code",
   "execution_count": 28,
   "metadata": {},
   "outputs": [
    {
     "name": "stdout",
     "output_type": "stream",
     "text": [
      "Test accuracy = 0.9228\n"
     ]
    }
   ],
   "source": [
    "XT = mnist.test.images\n",
    "YT = mnist.test.labels\n",
    "labelsT = np.argmax(YT,axis=1)\n",
    "predsT = Predictions(XT, W, b)\n",
    "accuracyT = Accuracy(predsT, labelsT)\n",
    "print(\"Test accuracy =\", accuracyT)"
   ]
  },
  {
   "cell_type": "markdown",
   "metadata": {},
   "source": [
    "The validation and test accuracy values are pretty close to the training accuracy which indicates that there was no overfitting. It is possible that running the model longer could improve the accuracy but at a very slow rate and does not seem worthwhile."
   ]
  },
  {
   "cell_type": "markdown",
   "metadata": {
    "collapsed": true
   },
   "source": [
    "We did achieve the same accuracy as the TensorFlow SoftMax tutorial except that it took 200X the time and number of epochs to get there.\n",
    "\n",
    "The next step will be to implement mini batch gradient descent to move towards the minima faster with fewer epochs."
   ]
  }
 ],
 "metadata": {
  "kernelspec": {
   "display_name": "Python 3",
   "language": "python",
   "name": "python3"
  },
  "language_info": {
   "codemirror_mode": {
    "name": "ipython",
    "version": 3
   },
   "file_extension": ".py",
   "mimetype": "text/x-python",
   "name": "python",
   "nbconvert_exporter": "python",
   "pygments_lexer": "ipython3",
   "version": "3.6.1"
  }
 },
 "nbformat": 4,
 "nbformat_minor": 2
}
